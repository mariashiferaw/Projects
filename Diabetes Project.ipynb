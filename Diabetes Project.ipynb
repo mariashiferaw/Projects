{
  "nbformat": 4,
  "nbformat_minor": 0,
  "metadata": {
    "colab": {
      "provenance": []
    },
    "kernelspec": {
      "name": "python3",
      "display_name": "Python 3"
    },
    "language_info": {
      "name": "python"
    },
    "gpuClass": "standard"
  },
  "cells": [
    {
      "cell_type": "code",
      "execution_count": null,
      "metadata": {
        "colab": {
          "base_uri": "https://localhost:8080/"
        },
        "id": "3EIov-mU0GJR",
        "outputId": "7b76cdcb-e901-444b-8e21-3a5d01ed3718"
      },
      "outputs": [
        {
          "output_type": "stream",
          "name": "stderr",
          "text": [
            "[nltk_data] Downloading package stopwords to /root/nltk_data...\n",
            "[nltk_data]   Unzipping corpora/stopwords.zip.\n",
            "[nltk_data] Downloading package punkt to /root/nltk_data...\n",
            "[nltk_data]   Unzipping tokenizers/punkt.zip.\n"
          ]
        },
        {
          "output_type": "execute_result",
          "data": {
            "text/plain": [
              "True"
            ]
          },
          "metadata": {},
          "execution_count": 3
        }
      ],
      "source": [
        "import pandas as pd\n",
        "import numpy as np\n",
        "import re\n",
        "import string\n",
        "import nltk\n",
        "from nltk.corpus import stopwords\n",
        "from nltk.stem import PorterStemmer\n",
        "nltk.download('stopwords')\n",
        "nltk.download('punkt')"
      ]
    },
    {
      "cell_type": "code",
      "source": [
        "UCI_df = pd.read_csv(\"/content/drive/MyDrive/Machine Learning Project/UCI Dataset.csv\")"
      ],
      "metadata": {
        "id": "XDhqf6Q408q9"
      },
      "execution_count": null,
      "outputs": []
    },
    {
      "cell_type": "code",
      "source": [
        "print(UCI_df.head())"
      ],
      "metadata": {
        "colab": {
          "base_uri": "https://localhost:8080/"
        },
        "id": "2BTilyZa1PO1",
        "outputId": "08d0c551-3dfc-4328-e6b9-088995212ebf"
      },
      "execution_count": null,
      "outputs": [
        {
          "output_type": "stream",
          "name": "stdout",
          "text": [
            "    UniqueID                  drugName                     condition  \\\n",
            "0     206461                 Valsartan  Left Ventricular Dysfunction   \n",
            "1      95260                Guanfacine                          ADHD   \n",
            "2      92703                    Lybrel                 Birth Control   \n",
            "3     138000                Ortho Evra                 Birth Control   \n",
            "4      35696  Buprenorphine / naloxone             Opiate Dependence   \n",
            "\n",
            "                                              review  rating       date  \\\n",
            "0  \"It has no side effect, I take it in combinati...       9  20-May-12   \n",
            "1  \"My son is halfway through his fourth week of ...       8  27-Apr-10   \n",
            "2  \"I used to take another oral contraceptive, wh...       5  14-Dec-09   \n",
            "3  \"This is my first time using any form of birth...       8   3-Nov-15   \n",
            "4  \"Suboxone has completely turned my life around...       9  27-Nov-16   \n",
            "\n",
            "   usefulCount  \n",
            "0           27  \n",
            "1          192  \n",
            "2           17  \n",
            "3           10  \n",
            "4           37  \n"
          ]
        }
      ]
    },
    {
      "cell_type": "code",
      "source": [
        "print(UCI_df.columns)\n",
        "UCI_df.shape"
      ],
      "metadata": {
        "colab": {
          "base_uri": "https://localhost:8080/"
        },
        "id": "ycM-ei381U6q",
        "outputId": "5b3b28d5-b01e-4743-89de-fe47fdbebd45"
      },
      "execution_count": null,
      "outputs": [
        {
          "output_type": "stream",
          "name": "stdout",
          "text": [
            "Index([' UniqueID', 'drugName', 'condition', 'review', 'rating', 'date',\n",
            "       'usefulCount'],\n",
            "      dtype='object')\n"
          ]
        },
        {
          "output_type": "execute_result",
          "data": {
            "text/plain": [
              "(161297, 7)"
            ]
          },
          "metadata": {},
          "execution_count": 6
        }
      ]
    },
    {
      "cell_type": "code",
      "source": [
        "UCI_df = UCI_df.drop([' UniqueID', 'date'], axis=1)\n",
        "UCI_df = UCI_df.dropna()"
      ],
      "metadata": {
        "id": "-c_W_97f1dr9"
      },
      "execution_count": null,
      "outputs": []
    },
    {
      "cell_type": "code",
      "source": [
        "# Define a function to preprocess the text\n",
        "def preprocess_text(text):\n",
        "    # Convert to lowercase\n",
        "    text = text.lower()\n",
        "\n",
        "    # Remove punctuation\n",
        "    text = re.sub('[%s]' % re.escape(string.punctuation), '', text)\n",
        "\n",
        "    # Remove stopwords\n",
        "    stop_words = set(stopwords.words('english'))\n",
        "    words = nltk.word_tokenize(text)\n",
        "    words = [word for word in words if word not in stop_words]\n",
        "\n",
        "    # Stem the remaining words\n",
        "    porter = PorterStemmer()\n",
        "    stemmed_words = [porter.stem(word) for word in words]\n",
        "\n",
        "    # Join the stemmed words back into a single string\n",
        "    text = ' '.join(stemmed_words)\n",
        "\n",
        "    return text"
      ],
      "metadata": {
        "id": "OZjm7lp91kG8"
      },
      "execution_count": null,
      "outputs": []
    },
    {
      "cell_type": "code",
      "source": [
        "# Apply the preprocessing function to the review column\n",
        "UCI_df['review'] = UCI_df['review'].apply(preprocess_text)"
      ],
      "metadata": {
        "id": "e-Y6H0p51oc7"
      },
      "execution_count": null,
      "outputs": []
    },
    {
      "cell_type": "code",
      "source": [
        "UCI_df.columns"
      ],
      "metadata": {
        "colab": {
          "base_uri": "https://localhost:8080/"
        },
        "id": "GdiHJvGMspy3",
        "outputId": "af1d27be-3d7d-4429-fac6-7c58ddfc62c2"
      },
      "execution_count": null,
      "outputs": [
        {
          "output_type": "execute_result",
          "data": {
            "text/plain": [
              "Index(['drugName', 'condition', 'review', 'rating', 'usefulCount'], dtype='object')"
            ]
          },
          "metadata": {},
          "execution_count": 10
        }
      ]
    },
    {
      "cell_type": "code",
      "source": [
        "UCI_df = UCI_df.drop(['usefulCount'], axis=1)"
      ],
      "metadata": {
        "id": "BqF1JzyzsxOI"
      },
      "execution_count": null,
      "outputs": []
    },
    {
      "cell_type": "code",
      "source": [
        "drug1_df = pd.read_csv(\"/content/drive/MyDrive/Machine Learning Project/drug1.csv\")"
      ],
      "metadata": {
        "id": "BWlr7DxSt4xX"
      },
      "execution_count": null,
      "outputs": []
    },
    {
      "cell_type": "code",
      "source": [
        "print(drug1_df.head())"
      ],
      "metadata": {
        "colab": {
          "base_uri": "https://localhost:8080/"
        },
        "id": "geV0IaJFuM3Q",
        "outputId": "6f02c0cc-36b1-453c-949c-325c6c7b638f"
      },
      "execution_count": null,
      "outputs": [
        {
          "output_type": "stream",
          "name": "stdout",
          "text": [
            "          drug  dosage                condition  \\\n",
            "0  Mirtazapine   15.00               Depression   \n",
            "1   Mesalamine  250.00      Lymphocytic Colitis   \n",
            "2      Bactrim    0.24  Urinary Tract Infection   \n",
            "3     Contrave    8.00              Weight Loss   \n",
            "4       LEVORA    0.15            Birth Control   \n",
            "\n",
            "                                              review  rating  usefulCount  \\\n",
            "0  \"I&#039;ve tried a few antidepressants over th...      10           22   \n",
            "1  \"I am newly diagnosed with LC, I am 38 years o...       8           23   \n",
            "2                      \"Quick reduction of symptoms\"       9            3   \n",
            "3  \"Contrave combines drugs that were used for al...       9           35   \n",
            "4  \"I was on this pill for almost two years. It d...       2            3   \n",
            "\n",
            "         bp     sugar  temperature  age             Sideeffects  \n",
            "0    normal    normal           97   30               dizziness  \n",
            "1  abnormal  abnormal           97   22                headache  \n",
            "2  abnormal  abnormal          103   56                 vomting  \n",
            "3  abnormal  abnormal          100   35    vomting and headache  \n",
            "4  abnormal  abnormal           97   30  headache and dizziness  \n"
          ]
        }
      ]
    },
    {
      "cell_type": "code",
      "source": [
        "drug1_df = drug1_df.rename(columns={'drug' : 'drugName'})"
      ],
      "metadata": {
        "id": "CVYwLHmeuR2I"
      },
      "execution_count": null,
      "outputs": []
    },
    {
      "cell_type": "code",
      "source": [
        "drug1_df"
      ],
      "metadata": {
        "colab": {
          "base_uri": "https://localhost:8080/",
          "height": 849
        },
        "id": "cXkzrywLutN5",
        "outputId": "2f93c30d-c6fb-4b24-edeb-9bb0d326edd6"
      },
      "execution_count": null,
      "outputs": [
        {
          "output_type": "execute_result",
          "data": {
            "text/plain": [
              "                             drugName  dosage                   condition  \\\n",
              "0                         Mirtazapine   15.00                  Depression   \n",
              "1                          Mesalamine  250.00         Lymphocytic Colitis   \n",
              "2                             Bactrim    0.24     Urinary Tract Infection   \n",
              "3                            Contrave    8.00                 Weight Loss   \n",
              "4                              LEVORA    0.15               Birth Control   \n",
              "..                                ...     ...                         ...   \n",
              "394                    Lo Loestrin Fe    1.00               Birth Control   \n",
              "395  Ethinyl estradiol / norgestimate    0.25               Birth Control   \n",
              "396     Guaifenesin / pseudoephedrine   60.00  Cough and Nasal Congestion   \n",
              "397                         Glyburide    5.00            Diabetes, Type 2   \n",
              "398          Phentermine / topiramate    7.50                 Weight Loss   \n",
              "\n",
              "                                                review  rating  usefulCount  \\\n",
              "0    \"I&#039;ve tried a few antidepressants over th...      10           22   \n",
              "1    \"I am newly diagnosed with LC, I am 38 years o...       8           23   \n",
              "2                        \"Quick reduction of symptoms\"       9            3   \n",
              "3    \"Contrave combines drugs that were used for al...       9           35   \n",
              "4    \"I was on this pill for almost two years. It d...       2            3   \n",
              "..                                                 ...     ...          ...   \n",
              "394  \"Ive been on this pill for 9 months now and I ...      10           10   \n",
              "395  \"I&#039;ve been on Sprintec for two months now...       5            2   \n",
              "396  \"I have severe sinus problems all year long, b...       9           12   \n",
              "397  \"I am taking 1/2 pill twice a day (5mg total) ...       9           11   \n",
              "398  \"I have been on every diet known to man kind. ...      10          113   \n",
              "\n",
              "           bp     sugar  temperature  age             Sideeffects  \n",
              "0      normal    normal           97   30               dizziness  \n",
              "1    abnormal  abnormal           97   22                headache  \n",
              "2    abnormal  abnormal          103   56                 vomting  \n",
              "3    abnormal  abnormal          100   35    vomting and headache  \n",
              "4    abnormal  abnormal           97   30  headache and dizziness  \n",
              "..        ...       ...          ...  ...                     ...  \n",
              "394  abnormal  abnormal          101   23                 vomting  \n",
              "395  abnormal  abnormal          102   18    vomting and headache  \n",
              "396    normal    normal           99   67  headache and dizziness  \n",
              "397    normal    normal           97   72             weight gain  \n",
              "398  abnormal  abnormal           97   74                heatburn  \n",
              "\n",
              "[399 rows x 11 columns]"
            ],
            "text/html": [
              "\n",
              "  <div id=\"df-5b17366c-b77f-45c5-8975-83a813926f7b\">\n",
              "    <div class=\"colab-df-container\">\n",
              "      <div>\n",
              "<style scoped>\n",
              "    .dataframe tbody tr th:only-of-type {\n",
              "        vertical-align: middle;\n",
              "    }\n",
              "\n",
              "    .dataframe tbody tr th {\n",
              "        vertical-align: top;\n",
              "    }\n",
              "\n",
              "    .dataframe thead th {\n",
              "        text-align: right;\n",
              "    }\n",
              "</style>\n",
              "<table border=\"1\" class=\"dataframe\">\n",
              "  <thead>\n",
              "    <tr style=\"text-align: right;\">\n",
              "      <th></th>\n",
              "      <th>drugName</th>\n",
              "      <th>dosage</th>\n",
              "      <th>condition</th>\n",
              "      <th>review</th>\n",
              "      <th>rating</th>\n",
              "      <th>usefulCount</th>\n",
              "      <th>bp</th>\n",
              "      <th>sugar</th>\n",
              "      <th>temperature</th>\n",
              "      <th>age</th>\n",
              "      <th>Sideeffects</th>\n",
              "    </tr>\n",
              "  </thead>\n",
              "  <tbody>\n",
              "    <tr>\n",
              "      <th>0</th>\n",
              "      <td>Mirtazapine</td>\n",
              "      <td>15.00</td>\n",
              "      <td>Depression</td>\n",
              "      <td>\"I&amp;#039;ve tried a few antidepressants over th...</td>\n",
              "      <td>10</td>\n",
              "      <td>22</td>\n",
              "      <td>normal</td>\n",
              "      <td>normal</td>\n",
              "      <td>97</td>\n",
              "      <td>30</td>\n",
              "      <td>dizziness</td>\n",
              "    </tr>\n",
              "    <tr>\n",
              "      <th>1</th>\n",
              "      <td>Mesalamine</td>\n",
              "      <td>250.00</td>\n",
              "      <td>Lymphocytic Colitis</td>\n",
              "      <td>\"I am newly diagnosed with LC, I am 38 years o...</td>\n",
              "      <td>8</td>\n",
              "      <td>23</td>\n",
              "      <td>abnormal</td>\n",
              "      <td>abnormal</td>\n",
              "      <td>97</td>\n",
              "      <td>22</td>\n",
              "      <td>headache</td>\n",
              "    </tr>\n",
              "    <tr>\n",
              "      <th>2</th>\n",
              "      <td>Bactrim</td>\n",
              "      <td>0.24</td>\n",
              "      <td>Urinary Tract Infection</td>\n",
              "      <td>\"Quick reduction of symptoms\"</td>\n",
              "      <td>9</td>\n",
              "      <td>3</td>\n",
              "      <td>abnormal</td>\n",
              "      <td>abnormal</td>\n",
              "      <td>103</td>\n",
              "      <td>56</td>\n",
              "      <td>vomting</td>\n",
              "    </tr>\n",
              "    <tr>\n",
              "      <th>3</th>\n",
              "      <td>Contrave</td>\n",
              "      <td>8.00</td>\n",
              "      <td>Weight Loss</td>\n",
              "      <td>\"Contrave combines drugs that were used for al...</td>\n",
              "      <td>9</td>\n",
              "      <td>35</td>\n",
              "      <td>abnormal</td>\n",
              "      <td>abnormal</td>\n",
              "      <td>100</td>\n",
              "      <td>35</td>\n",
              "      <td>vomting and headache</td>\n",
              "    </tr>\n",
              "    <tr>\n",
              "      <th>4</th>\n",
              "      <td>LEVORA</td>\n",
              "      <td>0.15</td>\n",
              "      <td>Birth Control</td>\n",
              "      <td>\"I was on this pill for almost two years. It d...</td>\n",
              "      <td>2</td>\n",
              "      <td>3</td>\n",
              "      <td>abnormal</td>\n",
              "      <td>abnormal</td>\n",
              "      <td>97</td>\n",
              "      <td>30</td>\n",
              "      <td>headache and dizziness</td>\n",
              "    </tr>\n",
              "    <tr>\n",
              "      <th>...</th>\n",
              "      <td>...</td>\n",
              "      <td>...</td>\n",
              "      <td>...</td>\n",
              "      <td>...</td>\n",
              "      <td>...</td>\n",
              "      <td>...</td>\n",
              "      <td>...</td>\n",
              "      <td>...</td>\n",
              "      <td>...</td>\n",
              "      <td>...</td>\n",
              "      <td>...</td>\n",
              "    </tr>\n",
              "    <tr>\n",
              "      <th>394</th>\n",
              "      <td>Lo Loestrin Fe</td>\n",
              "      <td>1.00</td>\n",
              "      <td>Birth Control</td>\n",
              "      <td>\"Ive been on this pill for 9 months now and I ...</td>\n",
              "      <td>10</td>\n",
              "      <td>10</td>\n",
              "      <td>abnormal</td>\n",
              "      <td>abnormal</td>\n",
              "      <td>101</td>\n",
              "      <td>23</td>\n",
              "      <td>vomting</td>\n",
              "    </tr>\n",
              "    <tr>\n",
              "      <th>395</th>\n",
              "      <td>Ethinyl estradiol / norgestimate</td>\n",
              "      <td>0.25</td>\n",
              "      <td>Birth Control</td>\n",
              "      <td>\"I&amp;#039;ve been on Sprintec for two months now...</td>\n",
              "      <td>5</td>\n",
              "      <td>2</td>\n",
              "      <td>abnormal</td>\n",
              "      <td>abnormal</td>\n",
              "      <td>102</td>\n",
              "      <td>18</td>\n",
              "      <td>vomting and headache</td>\n",
              "    </tr>\n",
              "    <tr>\n",
              "      <th>396</th>\n",
              "      <td>Guaifenesin / pseudoephedrine</td>\n",
              "      <td>60.00</td>\n",
              "      <td>Cough and Nasal Congestion</td>\n",
              "      <td>\"I have severe sinus problems all year long, b...</td>\n",
              "      <td>9</td>\n",
              "      <td>12</td>\n",
              "      <td>normal</td>\n",
              "      <td>normal</td>\n",
              "      <td>99</td>\n",
              "      <td>67</td>\n",
              "      <td>headache and dizziness</td>\n",
              "    </tr>\n",
              "    <tr>\n",
              "      <th>397</th>\n",
              "      <td>Glyburide</td>\n",
              "      <td>5.00</td>\n",
              "      <td>Diabetes, Type 2</td>\n",
              "      <td>\"I am taking 1/2 pill twice a day (5mg total) ...</td>\n",
              "      <td>9</td>\n",
              "      <td>11</td>\n",
              "      <td>normal</td>\n",
              "      <td>normal</td>\n",
              "      <td>97</td>\n",
              "      <td>72</td>\n",
              "      <td>weight gain</td>\n",
              "    </tr>\n",
              "    <tr>\n",
              "      <th>398</th>\n",
              "      <td>Phentermine / topiramate</td>\n",
              "      <td>7.50</td>\n",
              "      <td>Weight Loss</td>\n",
              "      <td>\"I have been on every diet known to man kind. ...</td>\n",
              "      <td>10</td>\n",
              "      <td>113</td>\n",
              "      <td>abnormal</td>\n",
              "      <td>abnormal</td>\n",
              "      <td>97</td>\n",
              "      <td>74</td>\n",
              "      <td>heatburn</td>\n",
              "    </tr>\n",
              "  </tbody>\n",
              "</table>\n",
              "<p>399 rows × 11 columns</p>\n",
              "</div>\n",
              "      <button class=\"colab-df-convert\" onclick=\"convertToInteractive('df-5b17366c-b77f-45c5-8975-83a813926f7b')\"\n",
              "              title=\"Convert this dataframe to an interactive table.\"\n",
              "              style=\"display:none;\">\n",
              "        \n",
              "  <svg xmlns=\"http://www.w3.org/2000/svg\" height=\"24px\"viewBox=\"0 0 24 24\"\n",
              "       width=\"24px\">\n",
              "    <path d=\"M0 0h24v24H0V0z\" fill=\"none\"/>\n",
              "    <path d=\"M18.56 5.44l.94 2.06.94-2.06 2.06-.94-2.06-.94-.94-2.06-.94 2.06-2.06.94zm-11 1L8.5 8.5l.94-2.06 2.06-.94-2.06-.94L8.5 2.5l-.94 2.06-2.06.94zm10 10l.94 2.06.94-2.06 2.06-.94-2.06-.94-.94-2.06-.94 2.06-2.06.94z\"/><path d=\"M17.41 7.96l-1.37-1.37c-.4-.4-.92-.59-1.43-.59-.52 0-1.04.2-1.43.59L10.3 9.45l-7.72 7.72c-.78.78-.78 2.05 0 2.83L4 21.41c.39.39.9.59 1.41.59.51 0 1.02-.2 1.41-.59l7.78-7.78 2.81-2.81c.8-.78.8-2.07 0-2.86zM5.41 20L4 18.59l7.72-7.72 1.47 1.35L5.41 20z\"/>\n",
              "  </svg>\n",
              "      </button>\n",
              "      \n",
              "  <style>\n",
              "    .colab-df-container {\n",
              "      display:flex;\n",
              "      flex-wrap:wrap;\n",
              "      gap: 12px;\n",
              "    }\n",
              "\n",
              "    .colab-df-convert {\n",
              "      background-color: #E8F0FE;\n",
              "      border: none;\n",
              "      border-radius: 50%;\n",
              "      cursor: pointer;\n",
              "      display: none;\n",
              "      fill: #1967D2;\n",
              "      height: 32px;\n",
              "      padding: 0 0 0 0;\n",
              "      width: 32px;\n",
              "    }\n",
              "\n",
              "    .colab-df-convert:hover {\n",
              "      background-color: #E2EBFA;\n",
              "      box-shadow: 0px 1px 2px rgba(60, 64, 67, 0.3), 0px 1px 3px 1px rgba(60, 64, 67, 0.15);\n",
              "      fill: #174EA6;\n",
              "    }\n",
              "\n",
              "    [theme=dark] .colab-df-convert {\n",
              "      background-color: #3B4455;\n",
              "      fill: #D2E3FC;\n",
              "    }\n",
              "\n",
              "    [theme=dark] .colab-df-convert:hover {\n",
              "      background-color: #434B5C;\n",
              "      box-shadow: 0px 1px 3px 1px rgba(0, 0, 0, 0.15);\n",
              "      filter: drop-shadow(0px 1px 2px rgba(0, 0, 0, 0.3));\n",
              "      fill: #FFFFFF;\n",
              "    }\n",
              "  </style>\n",
              "\n",
              "      <script>\n",
              "        const buttonEl =\n",
              "          document.querySelector('#df-5b17366c-b77f-45c5-8975-83a813926f7b button.colab-df-convert');\n",
              "        buttonEl.style.display =\n",
              "          google.colab.kernel.accessAllowed ? 'block' : 'none';\n",
              "\n",
              "        async function convertToInteractive(key) {\n",
              "          const element = document.querySelector('#df-5b17366c-b77f-45c5-8975-83a813926f7b');\n",
              "          const dataTable =\n",
              "            await google.colab.kernel.invokeFunction('convertToInteractive',\n",
              "                                                     [key], {});\n",
              "          if (!dataTable) return;\n",
              "\n",
              "          const docLinkHtml = 'Like what you see? Visit the ' +\n",
              "            '<a target=\"_blank\" href=https://colab.research.google.com/notebooks/data_table.ipynb>data table notebook</a>'\n",
              "            + ' to learn more about interactive tables.';\n",
              "          element.innerHTML = '';\n",
              "          dataTable['output_type'] = 'display_data';\n",
              "          await google.colab.output.renderOutput(dataTable, element);\n",
              "          const docLink = document.createElement('div');\n",
              "          docLink.innerHTML = docLinkHtml;\n",
              "          element.appendChild(docLink);\n",
              "        }\n",
              "      </script>\n",
              "    </div>\n",
              "  </div>\n",
              "  "
            ]
          },
          "metadata": {},
          "execution_count": 15
        }
      ]
    },
    {
      "cell_type": "code",
      "source": [
        "drug1_df.columns"
      ],
      "metadata": {
        "colab": {
          "base_uri": "https://localhost:8080/"
        },
        "id": "9VwMqlZFuzoV",
        "outputId": "9e529d23-27a3-4a04-f464-490bdc3a4784"
      },
      "execution_count": null,
      "outputs": [
        {
          "output_type": "execute_result",
          "data": {
            "text/plain": [
              "Index(['drugName', 'dosage', 'condition', 'review', 'rating', 'usefulCount',\n",
              "       'bp', 'sugar', 'temperature', 'age', 'Sideeffects'],\n",
              "      dtype='object')"
            ]
          },
          "metadata": {},
          "execution_count": 16
        }
      ]
    },
    {
      "cell_type": "code",
      "source": [
        "drug1_df = drug1_df.drop(['dosage', 'usefulCount', 'bp', 'sugar', 'temperature', 'age', 'Sideeffects'], axis = 1)"
      ],
      "metadata": {
        "id": "FpUqbKfWu1jS"
      },
      "execution_count": null,
      "outputs": []
    },
    {
      "cell_type": "code",
      "source": [
        "# Apply the preprocessing function to the review column\n",
        "drug1_df['review'] = drug1_df['review'].apply(preprocess_text)"
      ],
      "metadata": {
        "id": "l2gJ9RNQvI8Y"
      },
      "execution_count": null,
      "outputs": []
    },
    {
      "cell_type": "code",
      "source": [
        "drug_df = pd.read_csv(\"/content/drive/MyDrive/Machine Learning Project/drug_review_test.csv\")"
      ],
      "metadata": {
        "id": "9rOpArVkvXum"
      },
      "execution_count": null,
      "outputs": []
    },
    {
      "cell_type": "code",
      "source": [
        "print(drug_df.head())"
      ],
      "metadata": {
        "colab": {
          "base_uri": "https://localhost:8080/"
        },
        "id": "9aA6_CflvgvX",
        "outputId": "905b9515-6985-4384-90f5-1ff7ed54bef1"
      },
      "execution_count": null,
      "outputs": [
        {
          "output_type": "stream",
          "name": "stdout",
          "text": [
            "   Unnamed: 0  patient_id         drugName                     condition  \\\n",
            "0           0      163740      Mirtazapine                    depression   \n",
            "1           1      206473       Mesalamine  crohn's disease, maintenance   \n",
            "2           2       39293         Contrave                   weight loss   \n",
            "3           3       97768  Cyclafem 1 / 35                 birth control   \n",
            "4           4      208087          Zyclara                     keratosis   \n",
            "\n",
            "                                              review  rating  \\\n",
            "0  \"i've tried a few antidepressants over the yea...    10.0   \n",
            "1  \"my son has crohn's disease and has done very ...     8.0   \n",
            "2  \"contrave combines drugs that were used for al...     9.0   \n",
            "3  \"i have been on this birth control for one cyc...     9.0   \n",
            "4  \"4 days in on first 2 weeks.  using on arms an...     4.0   \n",
            "\n",
            "                date  usefulCount  review_length  \n",
            "0  February 28, 2012           22             68  \n",
            "1       May 17, 2009           17             48  \n",
            "2      March 5, 2017           35            143  \n",
            "3   October 22, 2015            4            149  \n",
            "4       July 3, 2014           13             60  \n"
          ]
        }
      ]
    },
    {
      "cell_type": "code",
      "source": [
        "drug_df.columns"
      ],
      "metadata": {
        "colab": {
          "base_uri": "https://localhost:8080/"
        },
        "id": "rcAtHAk9vwyS",
        "outputId": "a1abedca-a29c-47e4-b387-451a40973aa0"
      },
      "execution_count": null,
      "outputs": [
        {
          "output_type": "execute_result",
          "data": {
            "text/plain": [
              "Index(['Unnamed: 0', 'patient_id', 'drugName', 'condition', 'review', 'rating',\n",
              "       'date', 'usefulCount', 'review_length'],\n",
              "      dtype='object')"
            ]
          },
          "metadata": {},
          "execution_count": 21
        }
      ]
    },
    {
      "cell_type": "code",
      "source": [
        "drug_df = drug_df.drop(['Unnamed: 0', 'patient_id', 'date', 'usefulCount', 'review_length'], axis = 1)"
      ],
      "metadata": {
        "id": "HDaZSfidv0ax"
      },
      "execution_count": null,
      "outputs": []
    },
    {
      "cell_type": "code",
      "source": [
        "drug_df = drug_df.dropna()\n",
        "drug1_df = drug1_df.dropna()"
      ],
      "metadata": {
        "id": "9WaTHEjbwF_l"
      },
      "execution_count": null,
      "outputs": []
    },
    {
      "cell_type": "code",
      "source": [
        "# Apply the preprocessing function to the review column\n",
        "drug_df['review'] = drug_df['review'].apply(preprocess_text)"
      ],
      "metadata": {
        "id": "b-oHOCHZwHSE"
      },
      "execution_count": null,
      "outputs": []
    },
    {
      "cell_type": "code",
      "source": [
        "print(UCI_df.columns)\n",
        "print(drug1_df.columns)\n",
        "print(drug_df.columns)"
      ],
      "metadata": {
        "colab": {
          "base_uri": "https://localhost:8080/"
        },
        "id": "guJnVeo3wVbk",
        "outputId": "98ed3002-70ef-4f4f-c2bf-43c310c92f6c"
      },
      "execution_count": null,
      "outputs": [
        {
          "output_type": "stream",
          "name": "stdout",
          "text": [
            "Index(['drugName', 'condition', 'review', 'rating'], dtype='object')\n",
            "Index(['drugName', 'condition', 'review', 'rating'], dtype='object')\n",
            "Index(['drugName', 'condition', 'review', 'rating'], dtype='object')\n"
          ]
        }
      ]
    },
    {
      "cell_type": "markdown",
      "source": [
        "Naive Bayes for UCI dataset"
      ],
      "metadata": {
        "id": "1rjDy-Pi4O20"
      }
    },
    {
      "cell_type": "code",
      "source": [
        "from sklearn.feature_extraction.text import CountVectorizer\n",
        "from sklearn.naive_bayes import MultinomialNB\n",
        "from sklearn.metrics import accuracy_score, precision_score, recall_score, f1_score\n",
        "from sklearn.model_selection import train_test_split\n",
        "\n",
        "# Split the dataset into training and testing sets\n",
        "X_train, X_test, y_train, y_test = train_test_split(UCI_df[\"review\"], UCI_df[\"rating\"], test_size=0.3)\n",
        "\n",
        "# Vectorize the text data\n",
        "vectorizer = CountVectorizer(stop_words='english')\n",
        "X_train = vectorizer.fit_transform(X_train)\n",
        "X_test = vectorizer.transform(X_test)\n",
        "\n",
        "# Train a Naive Bayes Classifier\n",
        "clf = MultinomialNB()\n",
        "clf.fit(X_train, y_train)\n",
        "\n",
        "# Predict the ratings of the testing set\n",
        "y_pred = clf.predict(X_test)\n",
        "\n",
        "# Calculate accuracy, precision, recall, and F1-score\n",
        "accuracy_1 = accuracy_score(y_test, y_pred)\n",
        "precision_1 = precision_score(y_test, y_pred, average='weighted')\n",
        "recall_1 = recall_score(y_test, y_pred, average='weighted')\n",
        "f1_1 = f1_score(y_test, y_pred, average='weighted')\n",
        "\n",
        "# Print the results\n",
        "print(\"Accuracy:\", accuracy_1)\n",
        "print(\"Precision:\", precision_1)\n",
        "print(\"Recall:\", recall_1)\n",
        "print(\"F1-score:\", f1_1)"
      ],
      "metadata": {
        "colab": {
          "base_uri": "https://localhost:8080/"
        },
        "id": "EFVdo3xv7vmS",
        "outputId": "cd4a6be2-5ecf-4238-bb0a-cabb38e4ebcb"
      },
      "execution_count": null,
      "outputs": [
        {
          "output_type": "stream",
          "name": "stdout",
          "text": [
            "Accuracy: 0.4228387364921031\n",
            "Precision: 0.41321586812925803\n",
            "Recall: 0.4228387364921031\n",
            "F1-score: 0.35789056025190386\n"
          ]
        }
      ]
    },
    {
      "cell_type": "markdown",
      "source": [
        "Naive Bayes for Drug1 dataset"
      ],
      "metadata": {
        "id": "ufq6Ll9q8GPN"
      }
    },
    {
      "cell_type": "code",
      "source": [
        "from sklearn.feature_extraction.text import CountVectorizer\n",
        "from sklearn.naive_bayes import MultinomialNB\n",
        "from sklearn.metrics import accuracy_score, precision_score, recall_score, f1_score\n",
        "from sklearn.model_selection import train_test_split\n",
        "\n",
        "# Split the dataset into training and testing sets\n",
        "X_train_1, X_test_1, y_train_1, y_test_1 = train_test_split(drug1_df[\"review\"], drug1_df[\"rating\"], test_size=0.3)\n",
        "\n",
        "# Vectorize the text data\n",
        "vectorizer_1 = CountVectorizer(stop_words='english')\n",
        "X_train_1 = vectorizer.fit_transform(X_train_1)\n",
        "X_test_1 = vectorizer.transform(X_test_1)\n",
        "\n",
        "# Train a Naive Bayes Classifier\n",
        "clf = MultinomialNB()\n",
        "clf.fit(X_train_1, y_train_1)\n",
        "\n",
        "# Predict the ratings of the testing set\n",
        "y_pred_1 = clf.predict(X_test_1)\n",
        "\n",
        "# Calculate accuracy, precision, recall, and F1-score\n",
        "accuracy_2 = accuracy_score(y_test_1, y_pred_1)\n",
        "precision_2 = precision_score(y_test_1, y_pred_1, average='weighted')\n",
        "recall_2 = recall_score(y_test_1, y_pred_1, average='weighted')\n",
        "f1_2 = f1_score(y_test_1, y_pred_1, average='weighted')\n",
        "\n",
        "# Print the results\n",
        "print(\"Accuracy:\", accuracy_2)\n",
        "print(\"Precision:\", precision_2)\n",
        "print(\"Recall:\", recall_2)\n",
        "print(\"F1-score:\", f1_2)"
      ],
      "metadata": {
        "colab": {
          "base_uri": "https://localhost:8080/"
        },
        "id": "KOleknAb8FrC",
        "outputId": "a2d56224-5499-441a-e4c3-a43b52e91f1f"
      },
      "execution_count": null,
      "outputs": [
        {
          "output_type": "stream",
          "name": "stdout",
          "text": [
            "Accuracy: 0.9416666666666667\n",
            "Precision: 0.95625\n",
            "Recall: 0.9416666666666667\n",
            "F1-score: 0.9301282051282052\n"
          ]
        }
      ]
    },
    {
      "cell_type": "markdown",
      "source": [
        "Naive Bayes for Drug dataset"
      ],
      "metadata": {
        "id": "YAAJxYWI8YQ6"
      }
    },
    {
      "cell_type": "code",
      "source": [
        "from sklearn.feature_extraction.text import CountVectorizer\n",
        "from sklearn.naive_bayes import MultinomialNB\n",
        "from sklearn.metrics import accuracy_score, precision_score, recall_score, f1_score\n",
        "from sklearn.model_selection import train_test_split\n",
        "\n",
        "# Split the dataset into training and testing sets\n",
        "X_train_2, X_test_2, y_train_2, y_test_2 = train_test_split(drug_df[\"review\"], drug_df[\"rating\"], test_size=0.2)\n",
        "\n",
        "# Vectorize the text data\n",
        "vectorizer_2 = CountVectorizer(stop_words='english')\n",
        "X_train_2 = vectorizer.fit_transform(X_train_2)\n",
        "X_test_2 = vectorizer.transform(X_test_2)\n",
        "\n",
        "# Train a Naive Bayes Classifier\n",
        "clf = MultinomialNB()\n",
        "clf.fit(X_train_2, y_train_2)\n",
        "\n",
        "# Predict the ratings of the testing set\n",
        "y_pred_2 = clf.predict(X_test_2)\n",
        "\n",
        "# Calculate accuracy, precision, recall, and F1-score\n",
        "accuracy_3 = accuracy_score(y_test_2, y_pred_2)\n",
        "precision_3 = precision_score(y_test_2, y_pred_2, average='weighted')\n",
        "recall_3 = recall_score(y_test_2, y_pred_2, average='weighted')\n",
        "f1_3 = f1_score(y_test_2, y_pred_2, average='weighted')\n",
        "\n",
        "# Print the results\n",
        "print(\"Accuracy:\", accuracy_3)\n",
        "print(\"Precision:\", precision_3)\n",
        "print(\"Recall:\", recall_3)\n",
        "print(\"F1-score:\", f1_3)"
      ],
      "metadata": {
        "colab": {
          "base_uri": "https://localhost:8080/"
        },
        "id": "a2r1b1tN8Xpe",
        "outputId": "7de2f019-bbbe-45a2-f108-5de273446904"
      },
      "execution_count": null,
      "outputs": [
        {
          "output_type": "stream",
          "name": "stdout",
          "text": [
            "Accuracy: 0.39947950553025374\n",
            "Precision: 0.3949961391564589\n",
            "Recall: 0.39947950553025374\n",
            "F1-score: 0.3301837818092769\n"
          ]
        }
      ]
    },
    {
      "cell_type": "markdown",
      "source": [
        "Graph comparing the Accuracy results of the three datasets based on the Naive Bayes Algorithm"
      ],
      "metadata": {
        "id": "5nmCzQPi9Aiz"
      }
    },
    {
      "cell_type": "code",
      "source": [
        "import matplotlib.pyplot as plt\n",
        "\n",
        "dataframes = [UCI_df, drug_df, drug1_df]\n",
        "accuracies = [accuracy_1, accuracy_2, accuracy_3]\n",
        "barWidth = 0.25\n",
        "r = np.arange(len(dataframes))\n",
        "\n",
        "plt.bar(r, accuracies, width=barWidth, edgecolor='white')\n",
        "plt.title('Accuracy Results')\n",
        "plt.ylabel('Accuracy (%)')\n",
        "plt.xlabel(accuracies)\n",
        "plt.show()\n",
        "\n"
      ],
      "metadata": {
        "colab": {
          "base_uri": "https://localhost:8080/",
          "height": 472
        },
        "id": "MR6zbAhY86nQ",
        "outputId": "63dc8f09-c6b4-4169-926f-7c929e7c88b8"
      },
      "execution_count": null,
      "outputs": [
        {
          "output_type": "display_data",
          "data": {
            "text/plain": [
              "<Figure size 640x480 with 1 Axes>"
            ],
            "image/png": "[encoded data removed]"
          },
          "metadata": {}
        }
      ]
    },
    {
      "cell_type": "markdown",
      "source": [
        "CNN: UCI dataset accuracy results"
      ],
      "metadata": {
        "id": "hueopwNuEhrt"
      }
    },
    {
      "cell_type": "code",
      "source": [
        "!pip install --upgrade keras"
      ],
      "metadata": {
        "colab": {
          "base_uri": "https://localhost:8080/"
        },
        "id": "YNLIW1j7nEe0",
        "outputId": "644d2449-2231-4137-c74c-477f0082b10e"
      },
      "execution_count": null,
      "outputs": [
        {
          "output_type": "stream",
          "name": "stdout",
          "text": [
            "Looking in indexes: https://pypi.org/simple, https://us-python.pkg.dev/colab-wheels/public/simple/\n",
            "Requirement already satisfied: keras in /usr/local/lib/python3.10/dist-packages (2.12.0)\n"
          ]
        }
      ]
    },
    {
      "cell_type": "code",
      "source": [
        "import pandas as pd\n",
        "from sklearn.model_selection import train_test_split\n",
        "from keras.preprocessing.text import Tokenizer\n",
        "from tensorflow.keras.preprocessing.sequence import pad_sequences\n",
        "from keras.utils import to_categorical\n",
        "\n",
        "\n",
        "# Preprocess the dataset\n",
        "X_1 = UCI_df['review'].values\n",
        "y_1 = UCI_df['rating'].values\n",
        "\n",
        "# Tokenize the input texts\n",
        "tokenizer_1 = Tokenizer(num_words=20000)\n",
        "tokenizer_1.fit_on_texts(X_1)\n",
        "X_1 = tokenizer_1.texts_to_sequences(X_1)\n",
        "\n",
        "# Pad the sequences\n",
        "maxlen = 1000\n",
        "X_1 = pad_sequences(X_1, padding='post', truncating='post', maxlen=maxlen)\n",
        "\n",
        "# One-hot encode the target variable\n",
        "y_1 = to_categorical(y_1-1)\n",
        "num_classes = y_1.shape[1]\n",
        "\n",
        "# Split the dataset into training and validation sets\n",
        "X1_train, X1_val, y1_train, y1_val = train_test_split(X_1, y_1, test_size=0.3, random_state=42)\n"
      ],
      "metadata": {
        "id": "ghtwlPKBmY0b"
      },
      "execution_count": null,
      "outputs": []
    },
    {
      "cell_type": "code",
      "source": [
        "from keras.models import Sequential\n",
        "from keras.layers import Dense, Embedding, Conv1D, MaxPooling1D, Flatten, Dropout\n",
        "from keras.callbacks import EarlyStopping\n",
        "\n",
        "# Define the CNN model\n",
        "model1 = Sequential()\n",
        "model1.add(Embedding(input_dim=20000, output_dim=128, input_length=maxlen))\n",
        "model1.add(Conv1D(filters=64, kernel_size=5, activation='relu'))\n",
        "model1.add(MaxPooling1D(pool_size=5))\n",
        "model1.add(Conv1D(filters=128, kernel_size=5, activation='relu'))\n",
        "model1.add(MaxPooling1D(pool_size=5))\n",
        "model1.add(Flatten())\n",
        "model1.add(Dense(units=128, activation='relu'))\n",
        "model1.add(Dropout(rate=0.5))\n",
        "model1.add(Dense(units=num_classes, activation='softmax'))\n",
        "\n",
        "# Compile the model\n",
        "model1.compile(loss='categorical_crossentropy', optimizer='adam', metrics=['accuracy'])\n",
        "\n",
        "# Train the model with early stopping\n",
        "es1 = EarlyStopping(monitor='val_loss', mode='min', verbose=1, patience=3)\n",
        "history1 = model1.fit(X1_train, y1_train, validation_data=(X1_val, y1_val), epochs=5, batch_size=64, callbacks=[es1])\n"
      ],
      "metadata": {
        "colab": {
          "base_uri": "https://localhost:8080/"
        },
        "id": "Mrc4Gjanph4j",
        "outputId": "f4914868-1031-4df3-d9d4-8c5049ec221b"
      },
      "execution_count": null,
      "outputs": [
        {
          "output_type": "stream",
          "name": "stdout",
          "text": [
            "Epoch 1/5\n",
            "1755/1755 [==============================] - 1353s 770ms/step - loss: 1.7556 - accuracy: 0.3895 - val_loss: 1.6192 - val_accuracy: 0.4160\n",
            "Epoch 2/5\n",
            "1755/1755 [==============================] - 1371s 781ms/step - loss: 1.5186 - accuracy: 0.4447 - val_loss: 1.5485 - val_accuracy: 0.4385\n",
            "Epoch 3/5\n",
            "1755/1755 [==============================] - 1308s 746ms/step - loss: 1.3116 - accuracy: 0.5007 - val_loss: 1.5702 - val_accuracy: 0.4574\n",
            "Epoch 4/5\n",
            "1755/1755 [==============================] - 1339s 763ms/step - loss: 1.1172 - accuracy: 0.5702 - val_loss: 1.7027 - val_accuracy: 0.4476\n",
            "Epoch 5/5\n",
            "1755/1755 [==============================] - 1339s 763ms/step - loss: 0.9521 - accuracy: 0.6318 - val_loss: 1.7906 - val_accuracy: 0.4848\n",
            "Epoch 5: early stopping\n"
          ]
        }
      ]
    },
    {
      "cell_type": "code",
      "source": [
        "# Evaluate the model on the test set\n",
        "loss1, accuracy1 = model1.evaluate(X_1, y_1, verbose=0)\n",
        "print('Test Loss:', loss1)\n",
        "print('Test Accuracy:', accuracy1)\n",
        "\n",
        "# Predict labels for test data\n",
        "y1_pred = model1.predict(X_1)\n",
        "y1_pred = np.argmax(y1_pred, axis=1)\n",
        "y1_true = np.argmax(y_1, axis=1)\n",
        "\n",
        "# Calculate precision, recall, and F1-score\n",
        "precision1 = precision_score(y1_true, y1_pred, average='macro')\n",
        "recall1 = recall_score(y1_true, y1_pred, average='macro')\n",
        "f1score1 = f1_score(y1_true, y1_pred, average='macro')\n",
        "print('Precision:', precision1)\n",
        "print('Recall:', recall1)\n",
        "print('F1-score:', f1score1)"
      ],
      "metadata": {
        "colab": {
          "base_uri": "https://localhost:8080/"
        },
        "id": "WlysGpcgrQgc",
        "outputId": "e4d77f5a-3f09-45b3-d8e8-3304db8ff82f"
      },
      "execution_count": null,
      "outputs": [
        {
          "output_type": "stream",
          "name": "stdout",
          "text": [
            "Test Loss: 1.0724470615386963\n",
            "Test Accuracy: 0.6473646759986877\n",
            "5013/5013 [==============================] - 436s 87ms/step\n",
            "Precision: 0.49610534510949095\n",
            "Recall: 0.46137435069005034\n",
            "F1-score: 0.44667699365672375\n"
          ]
        }
      ]
    },
    {
      "cell_type": "markdown",
      "source": [
        "CNN: Drug1 dataset accuracy results"
      ],
      "metadata": {
        "id": "VAgiUNgwVvzc"
      }
    },
    {
      "cell_type": "code",
      "source": [
        "import pandas as pd\n",
        "from sklearn.model_selection import train_test_split\n",
        "from keras.preprocessing.text import Tokenizer\n",
        "from tensorflow.keras.preprocessing.sequence import pad_sequences\n",
        "from keras.utils import to_categorical\n",
        "\n",
        "\n",
        "# Preprocess the dataset\n",
        "X_2 = drug1_df['review'].values\n",
        "y_2 = drug1_df['rating'].values\n",
        "\n",
        "# Tokenize the input texts\n",
        "tokenizer_2 = Tokenizer(num_words=20000)\n",
        "tokenizer_2.fit_on_texts(X_2)\n",
        "X_2 = tokenizer_2.texts_to_sequences(X_2)\n",
        "\n",
        "# Pad the sequences\n",
        "maxlen = 1000\n",
        "X_2 = pad_sequences(X_2, padding='post', truncating='post', maxlen=maxlen)\n",
        "\n",
        "# One-hot encode the target variable\n",
        "y_2 = to_categorical(y_2-1)\n",
        "num_classes2 = y_2.shape[1]\n",
        "\n",
        "# Split the dataset into training and validation sets\n",
        "X2_train, X2_val, y2_train, y2_val = train_test_split(X_2, y_2, test_size=0.3, random_state=42)"
      ],
      "metadata": {
        "id": "az9eYxZmDesC"
      },
      "execution_count": null,
      "outputs": []
    },
    {
      "cell_type": "code",
      "source": [
        "from keras.models import Sequential\n",
        "from keras.layers import Dense, Embedding, Conv1D, MaxPooling1D, Flatten, Dropout\n",
        "from keras.callbacks import EarlyStopping\n",
        "\n",
        "# Define the CNN model\n",
        "model2 = Sequential()\n",
        "model2.add(Embedding(input_dim=20000, output_dim=128, input_length=maxlen))\n",
        "model2.add(Conv1D(filters=64, kernel_size=5, activation='relu'))\n",
        "model2.add(MaxPooling1D(pool_size=5))\n",
        "model2.add(Conv1D(filters=128, kernel_size=5, activation='relu'))\n",
        "model2.add(MaxPooling1D(pool_size=5))\n",
        "model2.add(Flatten())\n",
        "model2.add(Dense(units=128, activation='relu'))\n",
        "model2.add(Dropout(rate=0.5))\n",
        "model2.add(Dense(units=num_classes2, activation='softmax'))\n",
        "\n",
        "# Compile the model\n",
        "model2.compile(loss='categorical_crossentropy', optimizer='adam', metrics=['accuracy'])\n",
        "\n",
        "# Train the model with early stopping\n",
        "es2 = EarlyStopping(monitor='val_loss', mode='min', verbose=1, patience=3)\n",
        "history2 = model2.fit(X2_train, y2_train, validation_data=(X2_val, y2_val), epochs=25, batch_size=64, callbacks=[es2])\n"
      ],
      "metadata": {
        "colab": {
          "base_uri": "https://localhost:8080/"
        },
        "id": "GtxTcUCoWuUa",
        "outputId": "58b5907f-9d29-4566-b3fa-6b15e86a905f"
      },
      "execution_count": null,
      "outputs": [
        {
          "output_type": "stream",
          "name": "stdout",
          "text": [
            "Epoch 1/25\n",
            "5/5 [==============================] - 5s 943ms/step - loss: 2.1839 - accuracy: 0.2043 - val_loss: 1.8125 - val_accuracy: 0.3500\n",
            "Epoch 2/25\n",
            "5/5 [==============================] - 4s 820ms/step - loss: 2.0428 - accuracy: 0.2437 - val_loss: 1.8859 - val_accuracy: 0.4333\n",
            "Epoch 3/25\n",
            "5/5 [==============================] - 3s 554ms/step - loss: 1.9951 - accuracy: 0.2724 - val_loss: 1.7486 - val_accuracy: 0.4917\n",
            "Epoch 4/25\n",
            "5/5 [==============================] - 3s 566ms/step - loss: 1.9475 - accuracy: 0.3441 - val_loss: 1.6877 - val_accuracy: 0.5333\n",
            "Epoch 5/25\n",
            "5/5 [==============================] - 3s 574ms/step - loss: 1.8365 - accuracy: 0.3477 - val_loss: 1.5334 - val_accuracy: 0.6333\n",
            "Epoch 6/25\n",
            "5/5 [==============================] - 5s 1s/step - loss: 1.6776 - accuracy: 0.4409 - val_loss: 1.3381 - val_accuracy: 0.6333\n",
            "Epoch 7/25\n",
            "5/5 [==============================] - 4s 680ms/step - loss: 1.5037 - accuracy: 0.4946 - val_loss: 1.1345 - val_accuracy: 0.6833\n",
            "Epoch 8/25\n",
            "5/5 [==============================] - 3s 588ms/step - loss: 1.3009 - accuracy: 0.5484 - val_loss: 0.8907 - val_accuracy: 0.7667\n",
            "Epoch 9/25\n",
            "5/5 [==============================] - 3s 559ms/step - loss: 1.0480 - accuracy: 0.6129 - val_loss: 0.6661 - val_accuracy: 0.8417\n",
            "Epoch 10/25\n",
            "5/5 [==============================] - 3s 618ms/step - loss: 0.8627 - accuracy: 0.7455 - val_loss: 0.4887 - val_accuracy: 0.9167\n",
            "Epoch 11/25\n",
            "5/5 [==============================] - 5s 1s/step - loss: 0.6462 - accuracy: 0.8208 - val_loss: 0.3611 - val_accuracy: 0.9333\n",
            "Epoch 12/25\n",
            "5/5 [==============================] - 3s 564ms/step - loss: 0.5002 - accuracy: 0.8674 - val_loss: 0.2992 - val_accuracy: 0.9500\n",
            "Epoch 13/25\n",
            "5/5 [==============================] - 3s 571ms/step - loss: 0.3685 - accuracy: 0.8925 - val_loss: 0.2559 - val_accuracy: 0.9500\n",
            "Epoch 14/25\n",
            "5/5 [==============================] - 3s 553ms/step - loss: 0.3094 - accuracy: 0.9247 - val_loss: 0.2225 - val_accuracy: 0.9333\n",
            "Epoch 15/25\n",
            "5/5 [==============================] - 4s 739ms/step - loss: 0.2459 - accuracy: 0.9355 - val_loss: 0.1870 - val_accuracy: 0.9500\n",
            "Epoch 16/25\n",
            "5/5 [==============================] - 5s 955ms/step - loss: 0.2196 - accuracy: 0.9534 - val_loss: 0.1652 - val_accuracy: 0.9500\n",
            "Epoch 17/25\n",
            "5/5 [==============================] - 3s 561ms/step - loss: 0.1988 - accuracy: 0.9534 - val_loss: 0.1393 - val_accuracy: 0.9500\n",
            "Epoch 18/25\n",
            "5/5 [==============================] - 3s 559ms/step - loss: 0.1426 - accuracy: 0.9642 - val_loss: 0.1101 - val_accuracy: 0.9500\n",
            "Epoch 19/25\n",
            "5/5 [==============================] - 3s 555ms/step - loss: 0.1243 - accuracy: 0.9677 - val_loss: 0.0776 - val_accuracy: 0.9833\n",
            "Epoch 20/25\n",
            "5/5 [==============================] - 4s 969ms/step - loss: 0.1158 - accuracy: 0.9677 - val_loss: 0.0578 - val_accuracy: 0.9833\n",
            "Epoch 21/25\n",
            "5/5 [==============================] - 4s 719ms/step - loss: 0.0960 - accuracy: 0.9821 - val_loss: 0.0443 - val_accuracy: 0.9833\n",
            "Epoch 22/25\n",
            "5/5 [==============================] - 3s 573ms/step - loss: 0.0841 - accuracy: 0.9749 - val_loss: 0.0352 - val_accuracy: 1.0000\n",
            "Epoch 23/25\n",
            "5/5 [==============================] - 3s 565ms/step - loss: 0.0651 - accuracy: 0.9785 - val_loss: 0.0220 - val_accuracy: 1.0000\n",
            "Epoch 24/25\n",
            "5/5 [==============================] - 3s 568ms/step - loss: 0.0763 - accuracy: 0.9892 - val_loss: 0.0206 - val_accuracy: 1.0000\n",
            "Epoch 25/25\n",
            "5/5 [==============================] - 5s 1s/step - loss: 0.0674 - accuracy: 0.9892 - val_loss: 0.0165 - val_accuracy: 1.0000\n"
          ]
        }
      ]
    },
    {
      "cell_type": "code",
      "source": [
        "# Evaluate the model on the test set\n",
        "loss2, accuracy2 = model2.evaluate(X_2, y_2, verbose=0)\n",
        "print('Test Loss:', loss2)\n",
        "print('Test Accuracy:', accuracy2)\n",
        "\n",
        "# Predict labels for test data\n",
        "y2_pred = model2.predict(X_2)\n",
        "y2_pred = np.argmax(y2_pred, axis=1)\n",
        "y2_true = np.argmax(y_2, axis=1)\n",
        "\n",
        "# Calculate precision, recall, and F1-score\n",
        "precision2 = precision_score(y2_true, y2_pred, average='macro')\n",
        "recall2 = recall_score(y2_true, y2_pred, average='macro')\n",
        "f1score2 = f1_score(y2_true, y2_pred, average='macro')\n",
        "print('Precision:', precision2)\n",
        "print('Recall:', recall2)\n",
        "print('F1-score:', f1score2)"
      ],
      "metadata": {
        "colab": {
          "base_uri": "https://localhost:8080/"
        },
        "id": "935lPIaVDekv",
        "outputId": "31200d3a-5eaa-40a9-e0d8-7e1034f4369e"
      },
      "execution_count": null,
      "outputs": [
        {
          "output_type": "stream",
          "name": "stdout",
          "text": [
            "Test Loss: 0.014918740838766098\n",
            "Test Accuracy: 1.0\n",
            "13/13 [==============================] - 2s 111ms/step\n",
            "Precision: 1.0\n",
            "Recall: 1.0\n",
            "F1-score: 1.0\n"
          ]
        }
      ]
    },
    {
      "cell_type": "markdown",
      "source": [
        "CNN: DRUG dataset accuracy results"
      ],
      "metadata": {
        "id": "fNXiwTFIY741"
      }
    },
    {
      "cell_type": "code",
      "source": [
        "import pandas as pd\n",
        "from sklearn.model_selection import train_test_split\n",
        "from keras.preprocessing.text import Tokenizer\n",
        "from tensorflow.keras.preprocessing.sequence import pad_sequences\n",
        "from keras.utils import to_categorical\n",
        "\n",
        "\n",
        "# Preprocess the dataset\n",
        "X_3 = drug_df['review'].values\n",
        "y_3 = drug_df['rating'].values\n",
        "\n",
        "# Tokenize the input texts\n",
        "tokenizer_3 = Tokenizer(num_words=20000)\n",
        "tokenizer_3.fit_on_texts(X_3)\n",
        "X_3 = tokenizer_3.texts_to_sequences(X_3)\n",
        "\n",
        "# Pad the sequences\n",
        "maxlen = 1000\n",
        "X_3 = pad_sequences(X_3, padding='post', truncating='post', maxlen=maxlen)\n",
        "\n",
        "# One-hot encode the target variable\n",
        "y_3 = to_categorical(y_3-1)\n",
        "num_classes3 = y_3.shape[1]\n",
        "\n",
        "# Split the dataset into training and validation sets\n",
        "X3_train, X3_val, y3_train, y3_val = train_test_split(X_3, y_3, test_size=0.3, random_state=42)"
      ],
      "metadata": {
        "id": "rBHpwFnjDebj"
      },
      "execution_count": null,
      "outputs": []
    },
    {
      "cell_type": "code",
      "source": [
        "from keras.models import Sequential\n",
        "from keras.layers import Dense, Embedding, Conv1D, MaxPooling1D, Flatten, Dropout\n",
        "from keras.callbacks import EarlyStopping\n",
        "\n",
        "# Define the CNN model\n",
        "model3 = Sequential()\n",
        "model3.add(Embedding(input_dim=20000, output_dim=128, input_length=maxlen))\n",
        "model3.add(Conv1D(filters=64, kernel_size=5, activation='relu'))\n",
        "model3.add(MaxPooling1D(pool_size=5))\n",
        "model3.add(Conv1D(filters=128, kernel_size=5, activation='relu'))\n",
        "model3.add(MaxPooling1D(pool_size=5))\n",
        "model3.add(Flatten())\n",
        "model3.add(Dense(units=128, activation='relu'))\n",
        "model3.add(Dropout(rate=0.5))\n",
        "model3.add(Dense(units=num_classes3, activation='softmax'))\n",
        "\n",
        "# Compile the model\n",
        "model3.compile(loss='categorical_crossentropy', optimizer='adam', metrics=['accuracy'])\n",
        "\n",
        "# Train the model with early stopping\n",
        "es3 = EarlyStopping(monitor='val_loss', mode='min', verbose=1, patience=3)\n",
        "history3 = model3.fit(X3_train, y3_train, validation_data=(X3_val, y3_val), epochs=5, batch_size=64, callbacks=[es3])\n"
      ],
      "metadata": {
        "colab": {
          "base_uri": "https://localhost:8080/"
        },
        "id": "goc86kGjDeMu",
        "outputId": "75e93192-f77e-46aa-8340-b6068575ee60"
      },
      "execution_count": null,
      "outputs": [
        {
          "output_type": "stream",
          "name": "stdout",
          "text": [
            "Epoch 1/5\n",
            "505/505 [==============================] - 399s 788ms/step - loss: 1.9005 - accuracy: 0.3469 - val_loss: 1.7461 - val_accuracy: 0.3852\n",
            "Epoch 2/5\n",
            "505/505 [==============================] - 395s 783ms/step - loss: 1.6808 - accuracy: 0.4008 - val_loss: 1.6849 - val_accuracy: 0.4020\n",
            "Epoch 3/5\n",
            "505/505 [==============================] - 401s 793ms/step - loss: 1.4519 - accuracy: 0.4529 - val_loss: 1.7660 - val_accuracy: 0.3817\n",
            "Epoch 4/5\n",
            "505/505 [==============================] - 392s 776ms/step - loss: 1.2275 - accuracy: 0.5211 - val_loss: 1.9447 - val_accuracy: 0.3767\n",
            "Epoch 5/5\n",
            "505/505 [==============================] - 399s 789ms/step - loss: 1.0516 - accuracy: 0.5879 - val_loss: 2.2303 - val_accuracy: 0.3823\n",
            "Epoch 5: early stopping\n"
          ]
        }
      ]
    },
    {
      "cell_type": "code",
      "source": [
        "# Evaluate the model on the test set\n",
        "loss3, accuracy3 = model3.evaluate(X_3, y_3, verbose=0)\n",
        "print('Test Loss:', loss3)\n",
        "print('Test Accuracy:', accuracy3)\n",
        "\n",
        "# Predict labels for test data\n",
        "y3_pred = model3.predict(X_3)\n",
        "y3_pred = np.argmax(y3_pred, axis=1)\n",
        "y3_true = np.argmax(y_3, axis=1)\n",
        "\n",
        "# Calculate precision, recall, and F1-score\n",
        "precision3 = precision_score(y3_true, y3_pred, average='macro')\n",
        "recall3 = recall_score(y3_true, y3_pred, average='macro')\n",
        "f1score3 = f1_score(y3_true, y3_pred, average='macro')\n",
        "print('Precision:', precision3)\n",
        "print('Recall:', recall3)\n",
        "print('F1-score:', f1score3)"
      ],
      "metadata": {
        "colab": {
          "base_uri": "https://localhost:8080/"
        },
        "id": "WQwuKgr8bBi_",
        "outputId": "d9d84276-55f9-4064-eb92-a023088cfdbd"
      },
      "execution_count": null,
      "outputs": [
        {
          "output_type": "stream",
          "name": "stdout",
          "text": [
            "Test Loss: 1.2754679918289185\n",
            "Test Accuracy: 0.5741736888885498\n",
            "1441/1441 [==============================] - 127s 88ms/step\n",
            "Precision: 0.3847244974815381\n",
            "Recall: 0.3765662894410785\n",
            "F1-score: 0.35254984289001257\n"
          ]
        },
        {
          "output_type": "stream",
          "name": "stderr",
          "text": [
            "/usr/local/lib/python3.10/dist-packages/sklearn/metrics/_classification.py:1344: UndefinedMetricWarning: Precision is ill-defined and being set to 0.0 in labels with no predicted samples. Use `zero_division` parameter to control this behavior.\n",
            "  _warn_prf(average, modifier, msg_start, len(result))\n"
          ]
        }
      ]
    },
    {
      "cell_type": "code",
      "source": [
        "import matplotlib.pyplot as plt\n",
        "\n",
        "dataframes = [UCI_df, drug_df, drug1_df]\n",
        "CNN_accuracies = [accuracy1, accuracy2, accuracy3]\n",
        "barWidth = 0.25\n",
        "CNN_r = np.arange(len(dataframes))\n",
        "\n",
        "plt.bar(CNN_r, CNN_accuracies, width=barWidth, edgecolor='white')\n",
        "plt.title('Accuracy Results')\n",
        "plt.ylabel('Accuracy (%)')\n",
        "plt.xlabel(CNN_accuracies)\n",
        "plt.show()"
      ],
      "metadata": {
        "colab": {
          "base_uri": "https://localhost:8080/",
          "height": 472
        },
        "id": "lma5Jq6PlRVB",
        "outputId": "e29b85c7-ae42-4aed-88c8-9f07b84ff2ec"
      },
      "execution_count": null,
      "outputs": [
        {
          "output_type": "display_data",
          "data": {
            "text/plain": [
              "<Figure size 640x480 with 1 Axes>"
            ],
            "image/png": "[encoded data removed]"
          },
          "metadata": {}
        }
      ]
    },
    {
      "cell_type": "code",
      "source": [],
      "metadata": {
        "id": "VMIEszRPmPs6"
      },
      "execution_count": null,
      "outputs": []
    },
    {
      "cell_type": "markdown",
      "source": [
        "UCI dataset top 10 recommended drugs based on Naive Bayes Algorithm"
      ],
      "metadata": {
        "id": "uOqqWNQOBwyP"
      }
    },
    {
      "cell_type": "code",
      "source": [
        "# Vectorize text data\n",
        "NB_reviews_vectorized_1 = vectorizer.transform(UCI_df['review'])\n",
        "\n",
        "# Predict ratings for new reviews\n",
        "NB_ratings_1 = clf.predict(NB_reviews_vectorized_1)"
      ],
      "metadata": {
        "id": "6Hhl28eJBVpp"
      },
      "execution_count": null,
      "outputs": []
    },
    {
      "cell_type": "code",
      "source": [
        "# Get drugs with high ratings\n",
        "NB_high_rating_drugs_1 = UCI_df[UCI_df['rating'].isin(NB_ratings_1)].groupby('drugName')['rating'].mean().sort_values(ascending=False)\n",
        "\n",
        "# Print top 10 drugs with high ratings\n",
        "print(NB_high_rating_drugs_1.head(10))"
      ],
      "metadata": {
        "colab": {
          "base_uri": "https://localhost:8080/"
        },
        "id": "xyMn_tpUBeb2",
        "outputId": "7f16f71e-460b-4a2d-ec81-43eff7de9aff"
      },
      "execution_count": null,
      "outputs": [
        {
          "output_type": "stream",
          "name": "stdout",
          "text": [
            "drugName\n",
            "A + D Cracked Skin Relief    10.0\n",
            "Estratest                    10.0\n",
            "Eovist                       10.0\n",
            "EpiPen                       10.0\n",
            "Epivir                       10.0\n",
            "Epivir-HBV                   10.0\n",
            "Epoprostenol                 10.0\n",
            "Epzicom                      10.0\n",
            "Resorcinol / sulfur          10.0\n",
            "Ery Pads                     10.0\n",
            "Name: rating, dtype: float64\n"
          ]
        }
      ]
    },
    {
      "cell_type": "markdown",
      "source": [
        "Drug1 dataset top 10 recommended drugs based on Naive Bayes Algorithm\n",
        "\n",
        "---\n",
        "\n"
      ],
      "metadata": {
        "id": "5KFC4uaJv0j0"
      }
    },
    {
      "cell_type": "code",
      "source": [
        "# Vectorize text data\n",
        "NB_reviews_vectorized_2 = vectorizer.transform(drug1_df['review'])\n",
        "\n",
        "# Predict ratings for new reviews\n",
        "NB_ratings_2 = clf.predict(NB_reviews_vectorized_2)"
      ],
      "metadata": {
        "id": "aVkfG4zIu6n6"
      },
      "execution_count": null,
      "outputs": []
    },
    {
      "cell_type": "code",
      "source": [
        "# Get drugs with high ratings\n",
        "NB_high_rating_drugs_2 = drug1_df[drug1_df['rating'].isin(NB_ratings_2)].groupby('drugName')['rating'].mean().sort_values(ascending=False)\n",
        "\n",
        "# Print top 10 drugs with high ratings\n",
        "print(NB_high_rating_drugs_2.head(10))"
      ],
      "metadata": {
        "colab": {
          "base_uri": "https://localhost:8080/"
        },
        "id": "TJjynVwWvDeu",
        "outputId": "2f73bec6-fe90-4de1-db0c-8b45f764cbae"
      },
      "execution_count": null,
      "outputs": [
        {
          "output_type": "stream",
          "name": "stdout",
          "text": [
            "drugName\n",
            "Phentermine / topiramate            10.0\n",
            "Beyaz                               10.0\n",
            "Blisovi Fe 1 / 20                   10.0\n",
            "Campral                             10.0\n",
            "Ciprofloxacin                       10.0\n",
            "Clonazepam                          10.0\n",
            "Lo Loestrin Fe                      10.0\n",
            "Levonorgestrel                      10.0\n",
            "Mirtazapine                         10.0\n",
            "Ethinyl estradiol / etonogestrel    10.0\n",
            "Name: rating, dtype: float64\n"
          ]
        }
      ]
    },
    {
      "cell_type": "markdown",
      "source": [
        "Drug dataset top 10 recommended drugs based on Naive Bayes Algorithm\n"
      ],
      "metadata": {
        "id": "ddB-S1wPy9yc"
      }
    },
    {
      "cell_type": "code",
      "source": [
        "# Vectorize text data\n",
        "NB_reviews_vectorized_3 = vectorizer.transform(drug_df['review'])\n",
        "\n",
        "# Predict ratings for new reviews\n",
        "NB_ratings_3 = clf.predict(NB_reviews_vectorized_3)\n",
        "\n",
        "# Get drugs with high ratings\n",
        "NB_high_rating_drugs_3 = drug_df[drug_df['rating'].isin(NB_ratings_3)].groupby('drugName')['rating'].mean().sort_values(ascending=False)\n",
        "\n",
        "# Print top 10 drugs with high ratings\n",
        "print(NB_high_rating_drugs_3.head(10))"
      ],
      "metadata": {
        "colab": {
          "base_uri": "https://localhost:8080/"
        },
        "id": "KFttM4-Hy9cd",
        "outputId": "ee5ca968-e893-4945-8229-697a00278576"
      },
      "execution_count": null,
      "outputs": [
        {
          "output_type": "stream",
          "name": "stdout",
          "text": [
            "drugName\n",
            "A / B Otic             10.0\n",
            "Gadoxetate disodium    10.0\n",
            "Fluocinolone           10.0\n",
            "Fluoride               10.0\n",
            "Fluoroplex             10.0\n",
            "Flurandrenolide        10.0\n",
            "Forfivo XL             10.0\n",
            "Fulvicin U / F         10.0\n",
            "Galantamine            10.0\n",
            "Fleet Bisacodyl        10.0\n",
            "Name: rating, dtype: float64\n"
          ]
        }
      ]
    }
  ]
}